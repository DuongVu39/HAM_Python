{
 "cells": [
  {
   "cell_type": "code",
   "execution_count": 11,
   "metadata": {},
   "outputs": [],
   "source": [
    "import numpy as np\n",
    "import pandas as pd\n",
    "from ham import ham"
   ]
  },
  {
   "cell_type": "code",
   "execution_count": 19,
   "metadata": {},
   "outputs": [
    {
     "name": "stdout",
     "output_type": "stream",
     "text": [
      "None\n"
     ]
    }
   ],
   "source": [
    "raw_data = np.matrix([[1, 2], [3, np.nan]])\n",
    "raw_data = ham.todf(raw_data, [\"k\", \"o\"])\n",
    "# df = ham.impute_missing(raw_data, 'b', \"CC\", \"NaN\")\n",
    "print(raw_data)"
   ]
  },
  {
   "cell_type": "code",
   "execution_count": 5,
   "metadata": {},
   "outputs": [
    {
     "ename": "AttributeError",
     "evalue": "module 'ham' has no attribute 'todf'",
     "output_type": "error",
     "traceback": [
      "\u001b[1;31m---------------------------------------------------------------------------\u001b[0m",
      "\u001b[1;31mAttributeError\u001b[0m                            Traceback (most recent call last)",
      "\u001b[1;32m<ipython-input-5-cbd7b770a1aa>\u001b[0m in \u001b[0;36m<module>\u001b[1;34m()\u001b[0m\n\u001b[1;32m----> 1\u001b[1;33m \u001b[0mham\u001b[0m\u001b[1;33m.\u001b[0m\u001b[0mtodf\u001b[0m\u001b[1;33m(\u001b[0m\u001b[0mnp\u001b[0m\u001b[1;33m.\u001b[0m\u001b[0mmatrix\u001b[0m\u001b[1;33m(\u001b[0m\u001b[1;33m[\u001b[0m\u001b[1;33m[\u001b[0m\u001b[1;36m1\u001b[0m\u001b[1;33m,\u001b[0m \u001b[1;36m2\u001b[0m\u001b[1;33m]\u001b[0m\u001b[1;33m,\u001b[0m \u001b[1;33m[\u001b[0m\u001b[1;36m3\u001b[0m\u001b[1;33m,\u001b[0m \u001b[0mnp\u001b[0m\u001b[1;33m.\u001b[0m\u001b[0mnan\u001b[0m\u001b[1;33m]\u001b[0m\u001b[1;33m]\u001b[0m\u001b[1;33m)\u001b[0m\u001b[1;33m,\u001b[0m \u001b[1;33m[\u001b[0m\u001b[1;34m\"k\"\u001b[0m\u001b[1;33m,\u001b[0m \u001b[1;34m\"o\"\u001b[0m\u001b[1;33m]\u001b[0m\u001b[1;33m)\u001b[0m\u001b[1;33m\u001b[0m\u001b[0m\n\u001b[0m\u001b[0;32m      2\u001b[0m \u001b[1;33m\u001b[0m\u001b[0m\n\u001b[0;32m      3\u001b[0m \u001b[0mimpute_missing\u001b[0m\u001b[1;33m(\u001b[0m\u001b[0mnp\u001b[0m\u001b[1;33m.\u001b[0m\u001b[0mmatrix\u001b[0m\u001b[1;33m(\u001b[0m\u001b[1;33m[\u001b[0m\u001b[1;33m[\u001b[0m\u001b[1;36m1\u001b[0m\u001b[1;33m,\u001b[0m \u001b[1;36m2\u001b[0m\u001b[1;33m]\u001b[0m\u001b[1;33m,\u001b[0m \u001b[1;33m[\u001b[0m\u001b[1;36m3\u001b[0m\u001b[1;33m,\u001b[0m \u001b[0mnp\u001b[0m\u001b[1;33m.\u001b[0m\u001b[0mnan\u001b[0m\u001b[1;33m]\u001b[0m\u001b[1;33m]\u001b[0m\u001b[1;33m)\u001b[0m\u001b[1;33m,\u001b[0m \u001b[1;34m'b'\u001b[0m\u001b[1;33m,\u001b[0m \u001b[1;34m\"CC\"\u001b[0m\u001b[1;33m,\u001b[0m \u001b[1;34m\"NaN\"\u001b[0m\u001b[1;33m)\u001b[0m\u001b[1;33m\u001b[0m\u001b[0m\n\u001b[0;32m      4\u001b[0m \u001b[1;33m\u001b[0m\u001b[0m\n\u001b[0;32m      5\u001b[0m \u001b[0mvis_missing\u001b[0m\u001b[1;33m(\u001b[0m\u001b[0mnp\u001b[0m\u001b[1;33m.\u001b[0m\u001b[0mmatrix\u001b[0m\u001b[1;33m(\u001b[0m\u001b[1;33m[\u001b[0m\u001b[1;33m[\u001b[0m\u001b[1;36m1\u001b[0m\u001b[1;33m,\u001b[0m \u001b[1;36m2\u001b[0m\u001b[1;33m]\u001b[0m\u001b[1;33m,\u001b[0m \u001b[1;33m[\u001b[0m\u001b[1;36m3\u001b[0m\u001b[1;33m,\u001b[0m \u001b[0mnp\u001b[0m\u001b[1;33m.\u001b[0m\u001b[0mnan\u001b[0m\u001b[1;33m]\u001b[0m\u001b[1;33m]\u001b[0m\u001b[1;33m)\u001b[0m\u001b[1;33m,\u001b[0m \u001b[0mmissing_val_char\u001b[0m \u001b[1;33m=\u001b[0m \u001b[1;34m\"?\"\u001b[0m\u001b[1;33m)\u001b[0m\u001b[1;33m\u001b[0m\u001b[0m\n",
      "\u001b[1;31mAttributeError\u001b[0m: module 'ham' has no attribute 'todf'"
     ]
    }
   ],
   "source": [
    "ham.todf(np.matrix([[1, 2], [3, np.nan]]), [\"k\", \"o\"])\n",
    "\n",
    "ham.impute_missing(np.matrix([[1, 2], [3, np.nan]]), 'b', \"CC\", \"NaN\")\n",
    "\n",
    "ham.vis_missing(np.matrix([[1, 2], [3, np.nan]]), missing_val_char = \"?\")\n",
    "\n",
    "ham.compare_model(np.matrix([[1, 2], [3, np.nan]]), 'b', (\"CC\",\"MIP\"), \"NaN\")"
   ]
  },
  {
   "cell_type": "code",
   "execution_count": 16,
   "metadata": {},
   "outputs": [
    {
     "data": {
      "text/plain": [
       "numpy.matrixlib.defmatrix.matrix"
      ]
     },
     "execution_count": 16,
     "metadata": {},
     "output_type": "execute_result"
    }
   ],
   "source": [
    "# if (not isinstance(raw_data, pd.DataFrame)) and (not isinstance(raw_data, np.matrix)):\n",
    "#     raise ValueError(\"Expected a Data Frame or Matrix\")\n",
    "raw_data = np.matrix([[1, 2], [3, np.nan]])\n",
    "type(raw_data)"
   ]
  },
  {
   "cell_type": "code",
   "execution_count": 20,
   "metadata": {},
   "outputs": [],
   "source": [
    "def todf(data_obj, col_names=None):\n",
    "    \"\"\"\n",
    "    Author: JD, March 2018 - based on the code in hamr by Linsey Yao\n",
    "    Tests whether the inputted data object is a matrix or a data frame. If neither, raises a Value Error.\n",
    "    Converts a matrix to a data frame with user specified column names (col_names). If a data frame is inputted, \n",
    "    it is returned as a pandas data frame again (alternative possibility: return the data_obj itself, but this option seems safer). \n",
    "    Inputs:\n",
    "        - data_obj: can be any object type. Will return a ValueError if data_obj is not a matrix or data frame \n",
    "        - col_names: a list of column names. Will return a ValueError if it is not a list \n",
    "    \"\"\"\n",
    "\n",
    "    if (not isinstance(data_obj, pd.DataFrame)) and (not isinstance(data_obj, np.matrix)):\n",
    "        raise ValueError(\"Expected a Data Frame or Matrix\")\n",
    "    \n",
    "        if isinstance(data_obj, np.matrix) and col_names != None:\n",
    "            if data_obj.shape[1] != len(col_names):\n",
    "                raise ValueError(\"Number of columns in matrix does not match number of column names inputted\")\n",
    "            if not isinstance(col_names, list):\n",
    "                raise ValueError(\"Expected the column names to be in a list\")\n",
    "            else:\n",
    "                    return pd.DataFrame(data_obj, columns=col_names)\n",
    "\n",
    "        ## \n",
    "        if isinstance(data_obj, np.matrix) and col_names is None:\n",
    "            data_obj = pd.DataFrame(data_obj, columns=list(map(chr, range(97, 97+data_obj.shape[1]))))\n",
    "            return data_obj\n",
    "    \n",
    "        else:\n",
    "        ## if a data frame is inputted, data frame is returned\n",
    "            return pd.DataFrame(data_obj)"
   ]
  },
  {
   "cell_type": "code",
   "execution_count": 21,
   "metadata": {},
   "outputs": [
    {
     "name": "stdout",
     "output_type": "stream",
     "text": [
      "None\n"
     ]
    }
   ],
   "source": [
    "raw_data = np.matrix([[1, 2], [3, np.nan]])\n",
    "raw_data = todf(raw_data, [\"k\", \"o\"])\n",
    "# df = ham.impute_missing(raw_data, 'b', \"CC\", \"NaN\")\n",
    "print(raw_data)"
   ]
  }
 ],
 "metadata": {
  "kernelspec": {
   "display_name": "Python [default]",
   "language": "python",
   "name": "python3"
  },
  "language_info": {
   "codemirror_mode": {
    "name": "ipython",
    "version": 3
   },
   "file_extension": ".py",
   "mimetype": "text/x-python",
   "name": "python",
   "nbconvert_exporter": "python",
   "pygments_lexer": "ipython3",
   "version": "3.5.4"
  }
 },
 "nbformat": 4,
 "nbformat_minor": 2
}
